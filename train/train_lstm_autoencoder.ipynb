{
 "cells": [
  {
   "cell_type": "markdown",
   "metadata": {},
   "source": [
    "### Importing required packages and functions"
   ]
  },
  {
   "cell_type": "code",
   "execution_count": null,
   "metadata": {},
   "outputs": [],
   "source": [
    "import sys\n",
    "sys.path.insert(0, '..')\n",
    "\n",
    "import os\n",
    "\n",
    "from functools import reduce\n",
    "from config.paths import Path\n",
    "from config.constants import Constants\n",
    "from dataset.frame_dataset import FrameDataset\n",
    "from logger.train_logger import TrainLogger"
   ]
  },
  {
   "cell_type": "code",
   "execution_count": null,
   "metadata": {},
   "outputs": [],
   "source": [
    "def get_factors(n):\n",
    "    return set(reduce(list.__add__, \n",
    "                ([i, n//i] for i in range(1, int(n**0.5) + 1) if n % i == 0)))"
   ]
  },
  {
   "cell_type": "markdown",
   "metadata": {},
   "source": [
    "### Configurable Parameters for Experiments"
   ]
  },
  {
   "cell_type": "code",
   "execution_count": null,
   "metadata": {},
   "outputs": [],
   "source": [
    "SECONDS_PER_CLIP = Constants.SecondsPerClip.THREE_SEC # can be 1, 3, 5, 10\n",
    "CLOSEST_BATCH_SIZE = 15\n",
    "HOME_PATH = Path.DATA_HOME\n",
    "MODEL_PATH = Path.AUTOENCODER_MODEL_PATH\n",
    "WRITE_ENCODER_PATH = MODEL_PATH.format(sec=SECONDS_PER_CLIP, module='encoder')\n",
    "WRITE_DECODER_PATH = MODEL_PATH.format(sec=SECONDS_PER_CLIP, module='decoder')"
   ]
  },
  {
   "cell_type": "code",
   "execution_count": null,
   "metadata": {},
   "outputs": [],
   "source": [
    "frame_dataset = FrameDataset(SECONDS_PER_CLIP)"
   ]
  },
  {
   "cell_type": "code",
   "execution_count": null,
   "metadata": {},
   "outputs": [],
   "source": [
    "factors = get_factors(frame_dataset.__len__())\n",
    "BATCH_SIZE = min(factors, key=lambda x:abs(x-CLOSEST_BATCH_SIZE))\n",
    "print(factors, '\\n', BATCH_SIZE)"
   ]
  },
  {
   "cell_type": "markdown",
   "metadata": {},
   "source": [
    "### Define Autoencoder model"
   ]
  },
  {
   "cell_type": "code",
   "execution_count": null,
   "metadata": {},
   "outputs": [],
   "source": [
    "import torch\n",
    "import torch.nn as nn\n",
    "\n",
    "from torch.optim import Adagrad\n",
    "from torch.autograd import Variable\n",
    "import torch.utils.data as data\n",
    "\n",
    "use_cuda = torch.cuda.is_available()"
   ]
  },
  {
   "cell_type": "code",
   "execution_count": null,
   "metadata": {},
   "outputs": [],
   "source": [
    "class VideoEncoder(nn.Module):\n",
    "    \n",
    "    def __init__(self):\n",
    "        super(VideoEncoder, self).__init__()\n",
    "        self.lstm = nn.LSTM(512, 2048, 2)\n",
    "        \n",
    "    def forward(self, x):\n",
    "        output, hidden = self.lstm(x)\n",
    "        return output, hidden"
   ]
  },
  {
   "cell_type": "code",
   "execution_count": null,
   "metadata": {},
   "outputs": [],
   "source": [
    "class VideoDecoder(nn.Module):\n",
    "    \n",
    "    def __init__(self):\n",
    "        super(VideoDecoder, self).__init__()\n",
    "        self.lstm = nn.LSTM(2048, 2048, 2)\n",
    "        self.linear = nn.Linear(2048, 512)\n",
    "        \n",
    "    def forward(self, x, hidden):\n",
    "        output, hidden = self.lstm(x, hidden)\n",
    "        output = self.linear(output)\n",
    "        return output"
   ]
  },
  {
   "cell_type": "code",
   "execution_count": null,
   "metadata": {},
   "outputs": [],
   "source": [
    "def save_model(model_state_dict, optimizer_state_dict, epoch, path):\n",
    "    checkpoint = {\n",
    "        'epoch': epoch,\n",
    "        'state_dict': model_state_dict,\n",
    "        'optimizer': optimizer_state_dict\n",
    "    }\n",
    "    torch.save(checkpoint, path)"
   ]
  },
  {
   "cell_type": "code",
   "execution_count": null,
   "metadata": {},
   "outputs": [],
   "source": [
    "def load_model(path):\n",
    "    checkpoint = torch.load(path)\n",
    "    return checkpoint['state_dict'], checkpoint['optimizer']"
   ]
  },
  {
   "cell_type": "code",
   "execution_count": null,
   "metadata": {},
   "outputs": [],
   "source": [
    "encoder = VideoEncoder()\n",
    "decoder = VideoDecoder()\n",
    "\n",
    "loss_function = nn.MSELoss()\n",
    "\n",
    "if use_cuda:\n",
    "    encoder = encoder.cuda()\n",
    "    decoder = decoder.cuda()\n",
    "    loss_function = loss_function.cuda()\n",
    "    \n",
    "encoder_optimizer = Adagrad(encoder.parameters())\n",
    "decoder_optimizer = Adagrad(encoder.parameters())\n",
    "\n",
    "if not os.path.exists(os.path.dirname(HOME_PATH+WRITE_ENCODER_PATH)):\n",
    "    os.makedirs(os.path.dirname(HOME_PATH+WRITE_ENCODER_PATH))\n",
    "\n",
    "if not os.path.exists(os.path.dirname(HOME_PATH+WRITE_DECODER_PATH)):\n",
    "    os.makedirs(os.path.dirname(HOME_PATH+WRITE_DECODER_PATH))\n",
    "    \n",
    "if (os.path.isfile(HOME_PATH+WRITE_ENCODER_PATH)):\n",
    "    encoder_state, encoder_optimizer_state = load_model(HOME_PATH+WRITE_ENCODER_PATH)\n",
    "    encoder.load_state_dict(encoder_state)\n",
    "    encoder_optimizer.load_state_dict(encoder_optimizer_state)\n",
    "    print('Encoder model found, loading saved state...')\n",
    "    \n",
    "if (os.path.isfile(HOME_PATH+WRITE_DECODER_PATH)):\n",
    "    decoder_state, decoder_optimizer_state = load_model(HOME_PATH+WRITE_DECODER_PATH)\n",
    "    decoder.load_state_dict(decoder_state)\n",
    "    decoder_optimizer.load_state_dict(decoder_optimizer_state)\n",
    "    print('Decoder model found, loading saved state...')"
   ]
  },
  {
   "cell_type": "code",
   "execution_count": null,
   "metadata": {},
   "outputs": [],
   "source": [
    "epochs = 50\n",
    "print_every = 10\n",
    "\n",
    "prev_epoch_loss = float('inf')\n",
    "frame_dataloader = data.DataLoader(frame_dataset, batch_size=BATCH_SIZE, shuffle=True, \n",
    "                                   num_workers=1)\n",
    "train_logger = TrainLogger(BATCH_SIZE, print_every, frame_dataloader.__len__())\n",
    "\n",
    "for e in range(epochs):\n",
    "    for i, frame in enumerate(frame_dataloader):\n",
    "        encoder.zero_grad()\n",
    "        decoder.zero_grad()\n",
    "        \n",
    "        encoder_input = Variable(frame, requires_grad=True)\n",
    "        target = Variable(frame)\n",
    "        if use_cuda:\n",
    "            encoder_input = encoder_input.cuda()\n",
    "            target = target.cuda()\n",
    "        encoder_input = encoder_input.view(encoder_input.shape[1], BATCH_SIZE, encoder_input.shape[2])\n",
    "        target = target.view(target.shape[1], BATCH_SIZE, target.shape[2])\n",
    "        encoder_output, encoder_hidden = encoder(encoder_input)\n",
    "\n",
    "        decoder_output = decoder(encoder_output, encoder_hidden)\n",
    "        loss = loss_function(decoder_output, target)\n",
    "        epoch_loss = train_logger.update(e, i, decoder_output, target, loss)\n",
    "        loss.backward()\n",
    "        encoder_optimizer.step()\n",
    "        decoder_optimizer.step()\n",
    "    \n",
    "    if epoch_loss < prev_epoch_loss:\n",
    "        save_model(encoder.state_dict(), encoder_optimizer.state_dict(), e, HOME_PATH+WRITE_ENCODER_PATH)\n",
    "        save_model(decoder.state_dict(), decoder_optimizer.state_dict(), e, HOME_PATH+WRITE_DECODER_PATH)\n",
    "        print('\\n', (prev_epoch_loss/(frame_dataset.__len__()/BATCH_SIZE)), \n",
    "              (epoch_loss/(frame_dataset.__len__()/BATCH_SIZE)))\n",
    "        prev_epoch_loss = epoch_loss\n",
    "        train_logger.flush()\n",
    "    else:\n",
    "        break"
   ]
  }
 ],
 "metadata": {
  "kernelspec": {
   "display_name": "Python [conda env:kidstube2]",
   "language": "python",
   "name": "conda-env-kidstube2-py"
  },
  "language_info": {
   "codemirror_mode": {
    "name": "ipython",
    "version": 3
   },
   "file_extension": ".py",
   "mimetype": "text/x-python",
   "name": "python",
   "nbconvert_exporter": "python",
   "pygments_lexer": "ipython3",
   "version": "3.6.5"
  }
 },
 "nbformat": 4,
 "nbformat_minor": 2
}
