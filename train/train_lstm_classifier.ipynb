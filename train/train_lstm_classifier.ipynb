{
 "cells": [
  {
   "cell_type": "markdown",
   "metadata": {},
   "source": [
    "## Train video clip classifier"
   ]
  },
  {
   "cell_type": "code",
   "execution_count": null,
   "metadata": {},
   "outputs": [],
   "source": [
    "import sys\n",
    "sys.path.insert(0, '..')\n",
    "\n",
    "import os\n",
    "import numpy as np\n",
    "\n",
    "from config.paths import Path, Name\n",
    "from config.constants import Constants\n",
    "from dataset.labeled_dataset import LabeledDataset\n",
    "from logger.train_logger import TrainLogger\n",
    "from logger.test_logger import TestLogger"
   ]
  },
  {
   "cell_type": "code",
   "execution_count": null,
   "metadata": {},
   "outputs": [],
   "source": [
    "SECONDS_PER_CLIP = Constants.SecondsPerClip.THREE_SEC\n",
    "\n",
    "NUM_CLASSES = Constants.DataType.Balanced.NUM_CLASSES\n",
    "DATA_TYPE = Constants.DataType.Balanced.TYPE\n",
    "\n",
    "HOME_PATH = Path.DATA_HOME\n",
    "PRETRAINED_MODEL = Path.AUTOENCODER_MODEL_PATH.format(sec=SECONDS_PER_CLIP, module='encoder')\n",
    "MODEL_PATH = Path.CLASSIFIER_MODEL_PATH.format(sec=SECONDS_PER_CLIP, type=DATA_TYPE)\n",
    "MODEL_NAME = Name.CLASSIFIER_MODEL_NAME\n",
    "METRICS_PATH = Path.METRICS_PATH.format(sec=SECONDS_PER_CLIP, type=DATA_TYPE)\n",
    "TRAINING_METRIC = Name.TRAINING_METRIC\n",
    "EVALUATION_METRIC = Name.EVALUATION_METRIC"
   ]
  },
  {
   "cell_type": "code",
   "execution_count": null,
   "metadata": {},
   "outputs": [],
   "source": [
    "train_dataset = LabeledDataset(SECONDS_PER_CLIP, DATA_TYPE, 'train')\n",
    "test_dataset = LabeledDataset(SECONDS_PER_CLIP, DATA_TYPE, 'test')"
   ]
  },
  {
   "cell_type": "code",
   "execution_count": null,
   "metadata": {},
   "outputs": [],
   "source": [
    "print(train_dataset.__len__())"
   ]
  },
  {
   "cell_type": "markdown",
   "metadata": {},
   "source": [
    "### Define the model"
   ]
  },
  {
   "cell_type": "code",
   "execution_count": null,
   "metadata": {},
   "outputs": [],
   "source": [
    "import torch\n",
    "import torch.nn as nn\n",
    "import torch.utils.data as data\n",
    "\n",
    "from torch.optim import Adagrad\n",
    "from torch.autograd import Variable\n",
    "from torch.nn.functional import cross_entropy\n",
    "\n",
    "use_cuda = torch.cuda.is_available()"
   ]
  },
  {
   "cell_type": "code",
   "execution_count": null,
   "metadata": {},
   "outputs": [],
   "source": [
    "class VideoEncoder(nn.Module):\n",
    "    \n",
    "    def __init__(self):\n",
    "        super(VideoEncoder, self).__init__()\n",
    "        self.lstm = nn.LSTM(512, 2048, 2)\n",
    "        \n",
    "    def forward(self, x):\n",
    "        output, hidden = self.lstm(x)\n",
    "        return output, hidden"
   ]
  },
  {
   "cell_type": "code",
   "execution_count": null,
   "metadata": {},
   "outputs": [],
   "source": [
    "class VideoClassifier(nn.Module):\n",
    "    \n",
    "    def __init__(self, encoder_state_dict):\n",
    "        super(VideoClassifier, self).__init__()\n",
    "        self.encoder = VideoEncoder()\n",
    "        self.encoder.load_state_dict(encoder_state_dict)\n",
    "        if use_cuda:\n",
    "            self.encoder = self.encoder.cuda()\n",
    "        self.linear = nn.Linear(SECONDS_PER_CLIP*6*2048, NUM_CLASSES)\n",
    "    \n",
    "    def forward(self, x):\n",
    "        output, hidden = self.encoder(x)\n",
    "        output = output.view(output.shape[1], output.shape[0], output.shape[2])\n",
    "        output = output.view(output.shape[0], -1)\n",
    "        output = self.linear(output)\n",
    "        return output"
   ]
  },
  {
   "cell_type": "markdown",
   "metadata": {},
   "source": [
    "### Model Utils"
   ]
  },
  {
   "cell_type": "code",
   "execution_count": null,
   "metadata": {},
   "outputs": [],
   "source": [
    "def load_model_state(path=HOME_PATH + PRETRAINED_MODEL):\n",
    "    checkpoint = torch.load(path)\n",
    "    return checkpoint['state_dict']"
   ]
  },
  {
   "cell_type": "code",
   "execution_count": null,
   "metadata": {},
   "outputs": [],
   "source": [
    "def save_model(model_state_dict, optimizer_state_dict, split, path=HOME_PATH+MODEL_PATH):\n",
    "    if not os.path.exists(path):\n",
    "        os.makedirs(path)\n",
    "    path = path + MODEL_NAME.format(split)\n",
    "    checkpoint = {\n",
    "        'state_dict': model_state_dict,\n",
    "        'optimizer': optimizer_state_dict,\n",
    "    }\n",
    "    torch.save(checkpoint, path)"
   ]
  },
  {
   "cell_type": "markdown",
   "metadata": {},
   "source": [
    "### Metric Utils"
   ]
  },
  {
   "cell_type": "code",
   "execution_count": null,
   "metadata": {},
   "outputs": [],
   "source": [
    "from sklearn.metrics import confusion_matrix\n",
    "\n",
    "def get_confusion_matrix(y_true, y_pred, normalise=False):\n",
    "    conf_mat = confusion_matrix(y_true, y_pred)\n",
    "    if normalise:\n",
    "        conf_mat = conf_mat.astype('float') / conf_mat.sum(axis=1)[:, np.newaxis]\n",
    "    return conf_mat"
   ]
  },
  {
   "cell_type": "code",
   "execution_count": null,
   "metadata": {},
   "outputs": [],
   "source": [
    "def get_error_rates(confusion_matrix):\n",
    "    tp = np.diag(confusion_matrix)\n",
    "    fp = np.sum(confusion_matrix, axis=0) - tp\n",
    "    fn = np.sum(confusion_matrix, axis=1) - tp\n",
    "    num_classes = confusion_matrix.shape[0]\n",
    "    tn = []\n",
    "    for i in range(num_classes):\n",
    "        temp = np.delete(conf_mat, i, 0)    # delete ith row\n",
    "        temp = np.delete(temp, i, 1)  # delete ith column\n",
    "        tn.append(sum(sum(temp)))\n",
    "    tn = np.array(tn)\n",
    "    return tp, fp, fn, tn"
   ]
  },
  {
   "cell_type": "code",
   "execution_count": null,
   "metadata": {},
   "outputs": [],
   "source": [
    "def get_precision_recall(tp, fp, fn):\n",
    "    precision = tp/(tp+fp)\n",
    "    recall = tp/(tp+fn)\n",
    "    return precision, recall"
   ]
  },
  {
   "cell_type": "code",
   "execution_count": null,
   "metadata": {},
   "outputs": [],
   "source": [
    "def save_training_metrics(y_true, y_pred, y_pred_score, epoch_losses, split, epoch, avg_loss, path=HOME_PATH+METRICS_PATH):\n",
    "    if not os.path.exists(path):\n",
    "        os.makedirs(path)\n",
    "    path = path + TRAINING_METRIC.format(split, epoch, avg_loss)\n",
    "    with h5py.File(path, 'w') as f:\n",
    "        f.create_dataset('y_true', data=y_true, compression='gzip')\n",
    "        f.create_dataset('y_pred', data=y_pred, compression='gzip')\n",
    "        f.create_dataset('y_pred_score', data=y_pred_score, compression='gzip')\n",
    "        f.create_dataset('epoch_losses', data=epoch_losses, compression='gzip')"
   ]
  },
  {
   "cell_type": "code",
   "execution_count": null,
   "metadata": {},
   "outputs": [],
   "source": [
    "def save_evaluation_metrics(y_true, y_pred, y_pred_score, split, path=HOME_PATH+METRICS_PATH):\n",
    "    if not os.path.exists(path):\n",
    "        os.makedirs(path)\n",
    "    path = path + EVALUATION_METRIC.format(split)\n",
    "    with h5py.File(path, 'w') as f:\n",
    "        f.create_dataset('y_true', data=y_true, compression='gzip')\n",
    "        f.create_dataset('y_pred', data=y_pred, compression='gzip')\n",
    "        f.create_dataset('y_pred_score', data=y_pred_score, compression='gzip')"
   ]
  },
  {
   "cell_type": "markdown",
   "metadata": {},
   "source": [
    "### Train Hyperparams"
   ]
  },
  {
   "cell_type": "code",
   "execution_count": null,
   "metadata": {},
   "outputs": [],
   "source": [
    "BATCH_SIZE = 1\n",
    "PRINT_EVERY = 50\n",
    "EPOCHS = 50\n",
    "\n",
    "encoder_state = load_model_state()"
   ]
  },
  {
   "cell_type": "code",
   "execution_count": null,
   "metadata": {},
   "outputs": [],
   "source": [
    "def train_model(epochs, print_every, split_number, batch_size):\n",
    "    print('Training the model...')\n",
    "    \n",
    "    train_dataloader = data.DataLoader(train_dataset, batch_size=batch_size, shuffle=True, \n",
    "                                       num_workers=1)\n",
    "    train_logger = TrainLogger(batch_size, print_every, train_dataloader.__len__())\n",
    "    \n",
    "    classifier = VideoClassifier(encoder_state)\n",
    "    classifier.train()\n",
    "    loss_function = nn.CrossEntropyLoss()\n",
    "    if use_cuda:\n",
    "        classifier = classifier.cuda()\n",
    "        loss_function = loss_function.cuda()\n",
    "    \n",
    "    classifier_optimizer = Adagrad(classifier.parameters())\n",
    "    prev_epoch_loss = float('inf')\n",
    "\n",
    "    for e in range(epochs):\n",
    "        y_pred = []\n",
    "        for i, (frame, annotation) in enumerate(train_dataloader):\n",
    "            classifier.zero_grad()\n",
    "\n",
    "            classifier_input = Variable(frame, requires_grad=True)\n",
    "            label = Variable(annotation)\n",
    "            if use_cuda:\n",
    "                classifier_input = classifier_input.cuda()\n",
    "                label = label.cuda()\n",
    "            classifier_input = classifier_input.view(classifier_input.shape[1], batch_size, classifier_input.shape[2])\n",
    "            prediction = classifier(classifier_input)\n",
    "            y_pred.extend(np.argmax(prediction.data.cpu().numpy(), axis=1))\n",
    "\n",
    "            loss = loss_function(prediction, label)\n",
    "            epoch_loss = train_logger.update(e, i, prediction, label, loss)\n",
    "            loss.backward()\n",
    "            classifier_optimizer.step()\n",
    "\n",
    "        if epoch_loss < prev_epoch_loss:\n",
    "            save_model(classifier.state_dict(), classifier_optimizer.state_dict(), split_number)\n",
    "            save_training_metrics(train_logger.y_true, y_pred, \n",
    "                                  train_logger.y_pred_score, train_logger.epoch_losses, \n",
    "                                  split_number, e, (epoch_loss / i))\n",
    "            prev_epoch_loss = epoch_loss\n",
    "            print('\\n', get_confusion_matrix(y_true, y_pred))\n",
    "        else:\n",
    "            break\n",
    "    return classifier"
   ]
  },
  {
   "cell_type": "code",
   "execution_count": null,
   "metadata": {},
   "outputs": [],
   "source": [
    "def evaluate_model(classifier, print_every, batch_size):\n",
    "    print('\\nEvaluating the model...')\n",
    "    \n",
    "    test_dataloader = data.DataLoader(test_dataset, batch_size=batch_size, shuffle=True, \n",
    "                                       num_workers=1)\n",
    "    test_logger = TestLogger(batch_size, print_every, test_dataloader.__len__())\n",
    "    \n",
    "    classifier.eval()\n",
    "    y_pred = []\n",
    "    for i, (frame, annotation) in enumerate(train_dataloader):\n",
    "        classifier_input = Variable(frame)\n",
    "        label = Variable(annotations)\n",
    "        if use_cuda:\n",
    "            classifier_input = classifier_input.cuda()\n",
    "            label = label.cuda()\n",
    "        classifier_input = classifier_input.view(classifier_input.shape[1], batch_size, classifier_input.shape[2])\n",
    "        prediction = classifier(classifier_input)\n",
    "        y_pred.append(np.argmax(prediction.data.cpu().numpy(), axis=1)[0])\n",
    "        \n",
    "        test_logger.update(i, prediction, label)\n",
    "    \n",
    "    return test_logger.y_true, y_pred, test_logger.y_pred_score"
   ]
  },
  {
   "cell_type": "code",
   "execution_count": null,
   "metadata": {},
   "outputs": [],
   "source": [
    "trained_model = train_model(EPOCHS, PRINT_EVERY, 0, BATCH_SIZE)\n",
    "y_true_eval, y_pred_eval, y_pred_score_eval = evaluate_model(trained_model, PRINT_EVERY, frames_validate, annotations_validate, BATCH_SIZE)\n",
    "save_evaluation_metrics(y_true_eval, y_pred_eval, y_pred_score_eval, 0)\n",
    "conf_mat = get_confusion_matrix(y_true_eval, y_pred_eval)\n",
    "tp, fp, fn, tn = get_error_rates(conf_mat)\n",
    "precision, recall = get_precision_recall(tp, fp, fn)\n",
    "print('\\nConfusion Matrix: ', precision)\n",
    "print('Precision: ', precision)\n",
    "print('Recall: ', recall)"
   ]
  }
 ],
 "metadata": {
  "kernelspec": {
   "display_name": "Python [conda env:kidstube2]",
   "language": "python",
   "name": "conda-env-kidstube2-py"
  },
  "language_info": {
   "codemirror_mode": {
    "name": "ipython",
    "version": 3
   },
   "file_extension": ".py",
   "mimetype": "text/x-python",
   "name": "python",
   "nbconvert_exporter": "python",
   "pygments_lexer": "ipython3",
   "version": "3.6.5"
  }
 },
 "nbformat": 4,
 "nbformat_minor": 2
}
