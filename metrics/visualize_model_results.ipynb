{
 "cells": [
  {
   "cell_type": "code",
   "execution_count": null,
   "metadata": {},
   "outputs": [],
   "source": [
    "import h5py\n",
    "import numpy as np"
   ]
  },
  {
   "cell_type": "code",
   "execution_count": null,
   "metadata": {},
   "outputs": [],
   "source": [
    "SECONDS_PER_CLIP = 5\n",
    "DATA_TYPE = 'unbalanced_data'\n",
    "CLASS_LABELS = ['Safe', 'Violent', 'Sexual', 'Both']\n",
    "DPI = 150\n",
    "\n",
    "HOME_PATH = '/home/shubhams/Hercules/kidstube-data/'\n",
    "METRICS_PATH = 'metrics/aggregate_{0}_sec/{1}_classifier/evaluation_metric_split_0.hdf5'.format(SECONDS_PER_CLIP, DATA_TYPE)\n",
    "ROC_PLOT_PATH = 'aggregate_{0}_sec_{1}_classifier_roc.pdf'.format(SECONDS_PER_CLIP, DATA_TYPE)"
   ]
  },
  {
   "cell_type": "code",
   "execution_count": null,
   "metadata": {},
   "outputs": [],
   "source": [
    "def load_data(name, path=HOME_PATH+METRICS_PATH):\n",
    "    f = h5py.File(path, 'r')\n",
    "    return f[name]"
   ]
  },
  {
   "cell_type": "code",
   "execution_count": null,
   "metadata": {},
   "outputs": [],
   "source": [
    "from sklearn.metrics import confusion_matrix\n",
    "\n",
    "def get_confusion_matrix(y_true, y_pred, normalise=False):\n",
    "    conf_mat = confusion_matrix(y_true, y_pred)\n",
    "    if normalise:\n",
    "        conf_mat = conf_mat.astype('float') / conf_mat.sum(axis=1)[:, np.newaxis]\n",
    "    return conf_mat"
   ]
  },
  {
   "cell_type": "code",
   "execution_count": null,
   "metadata": {},
   "outputs": [],
   "source": [
    "def get_error_rates(confusion_matrix):\n",
    "    tp = np.diag(confusion_matrix)\n",
    "    fp = np.sum(confusion_matrix, axis=0) - tp\n",
    "    fn = np.sum(confusion_matrix, axis=1) - tp\n",
    "    num_classes = confusion_matrix.shape[0]\n",
    "    tn = []\n",
    "    for i in range(num_classes):\n",
    "        temp = np.delete(conf_mat, i, 0)    # delete ith row\n",
    "        temp = np.delete(temp, i, 1)  # delete ith column\n",
    "        tn.append(sum(sum(temp)))\n",
    "    tn = np.array(tn)\n",
    "    return tp, fp, fn, tn"
   ]
  },
  {
   "cell_type": "code",
   "execution_count": null,
   "metadata": {},
   "outputs": [],
   "source": [
    "def get_precision_recall(tp, fp, fn):\n",
    "    precision = tp/(tp+fp)\n",
    "    recall = tp/(tp+fn)\n",
    "    return precision, recall"
   ]
  },
  {
   "cell_type": "code",
   "execution_count": null,
   "metadata": {},
   "outputs": [],
   "source": [
    "def get_binarized_labels(y_true, num_classes):\n",
    "    binarized_labels = []\n",
    "    for y in y_true:\n",
    "        binarized_label = [0 for i in range(num_classes)]\n",
    "        binarized_label[y] = 1\n",
    "        binarized_labels.append(binarized_label)\n",
    "    return np.array(binarized_labels)"
   ]
  },
  {
   "cell_type": "code",
   "execution_count": null,
   "metadata": {},
   "outputs": [],
   "source": [
    "y_true = load_data('y_true')\n",
    "y_pred = load_data('y_pred')\n",
    "y_pred_score = load_data('y_pred_score')"
   ]
  },
  {
   "cell_type": "code",
   "execution_count": null,
   "metadata": {},
   "outputs": [],
   "source": [
    "label_true = [0 for i in range(len(CLASS_LABELS))]\n",
    "for i in y_true:\n",
    "    label_true[i] += 1 \n",
    "label_true"
   ]
  },
  {
   "cell_type": "code",
   "execution_count": null,
   "metadata": {},
   "outputs": [],
   "source": [
    "label_pred = [0 for i in range(len(CLASS_LABELS))]\n",
    "for i in y_pred:\n",
    "    label_pred[i] += 1 \n",
    "label_pred"
   ]
  },
  {
   "cell_type": "code",
   "execution_count": null,
   "metadata": {},
   "outputs": [],
   "source": [
    "conf_mat = get_confusion_matrix(y_true, y_pred)\n",
    "print(conf_mat)\n",
    "np.sum(conf_mat, axis=1)"
   ]
  },
  {
   "cell_type": "code",
   "execution_count": null,
   "metadata": {},
   "outputs": [],
   "source": [
    "conf_mat.astype('float') / conf_mat.sum(axis=1)[:, np.newaxis]"
   ]
  },
  {
   "cell_type": "code",
   "execution_count": null,
   "metadata": {},
   "outputs": [],
   "source": [
    "tp, fp, fn, tn = get_error_rates(conf_mat)\n",
    "print('TP: ', tp)\n",
    "print('FP: ', fp)\n",
    "print('FN: ', fn)\n",
    "print('TN: ', tn)\n",
    "precision, recall = get_precision_recall(tp, fp, fn)\n",
    "print('\\nPrecision: ', precision)\n",
    "print('Recall: ', recall)"
   ]
  },
  {
   "cell_type": "code",
   "execution_count": null,
   "metadata": {},
   "outputs": [],
   "source": [
    "from sklearn.metrics import roc_curve, auc\n",
    "from sklearn.preprocessing import label_binarize\n",
    "\n",
    "y = get_binarized_labels(y_true, len(CLASS_LABELS))\n",
    "y_hat = np.array(y_pred_score)\n",
    "n_classes = y.shape[1]\n",
    "\n",
    "fpr = dict()\n",
    "tpr = dict()\n",
    "roc_auc = dict()\n",
    "for i in range(n_classes):\n",
    "    fpr[i], tpr[i], _ = roc_curve(y[:, i], y_hat[:, i])\n",
    "    roc_auc[i] = auc(fpr[i], tpr[i])"
   ]
  },
  {
   "cell_type": "code",
   "execution_count": null,
   "metadata": {},
   "outputs": [],
   "source": [
    "roc_auc"
   ]
  },
  {
   "cell_type": "code",
   "execution_count": null,
   "metadata": {},
   "outputs": [],
   "source": [
    "%matplotlib inline\n",
    "\n",
    "from itertools import cycle\n",
    "import matplotlib.pyplot as plt\n",
    "\n",
    "plt.figure()\n",
    "lw = 2\n",
    "colors = cycle(['red', 'darkorange', 'cornflowerblue', 'aqua'])\n",
    "for i, class_label, color in zip(range(n_classes), CLASS_LABELS, colors):\n",
    "    plt.plot(fpr[i], tpr[i], color=color, lw=lw,\n",
    "             label='ROC curve of {0} (area = {1:0.2f})'\n",
    "             ''.format(class_label, roc_auc[i]))\n",
    "\n",
    "plt.plot([0, 1], [0, 1], 'k--', lw=lw)\n",
    "plt.xlim([0.0, 1.0])\n",
    "plt.ylim([0.0, 1.05])\n",
    "plt.xlabel('False Positive Rate', fontsize=16)\n",
    "plt.ylabel('True Positive Rate', fontsize=16)\n",
    "plt.tick_params(labelsize=14)\n",
    "plt.legend(loc=\"lower right\", fontsize=12)\n",
    "plt.grid(True)\n",
    "plt.savefig(ROC_PLOT_PATH, dpi=DPI, bbox_inches='tight')\n",
    "plt.show()"
   ]
  }
 ],
 "metadata": {
  "kernelspec": {
   "display_name": "Python [conda env:kidstube2]",
   "language": "python",
   "name": "conda-env-kidstube2-py"
  },
  "language_info": {
   "codemirror_mode": {
    "name": "ipython",
    "version": 3
   },
   "file_extension": ".py",
   "mimetype": "text/x-python",
   "name": "python",
   "nbconvert_exporter": "python",
   "pygments_lexer": "ipython3",
   "version": "3.6.5"
  }
 },
 "nbformat": 4,
 "nbformat_minor": 2
}
