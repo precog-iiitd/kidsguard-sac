{
 "cells": [
  {
   "cell_type": "code",
   "execution_count": 1,
   "metadata": {},
   "outputs": [
    {
     "name": "stderr",
     "output_type": "stream",
     "text": [
      "/home/shubhams/miniconda3/envs/kidstube2/lib/python3.6/site-packages/h5py/__init__.py:36: FutureWarning: Conversion of the second argument of issubdtype from `float` to `np.floating` is deprecated. In future, it will be treated as `np.float64 == np.dtype(float).type`.\n",
      "  from ._conv import register_converters as _register_converters\n"
     ]
    }
   ],
   "source": [
    "import h5py\n",
    "import os\n",
    "import re\n",
    "\n",
    "import numpy as np"
   ]
  },
  {
   "cell_type": "code",
   "execution_count": 2,
   "metadata": {},
   "outputs": [],
   "source": [
    "HOME_PATH = '/home/shubhams/Hercules/kidstube-data/'\n",
    "ANNOTATION_PATH_SUFFIX = 'annotations/{0}.txt'\n",
    "DATASET_PATH = 'processed/annotated_data.hdf5'\n",
    "\n",
    "ANNOTATION_LABELS = {\n",
    "    'none': 0,\n",
    "    'violent' : 1,\n",
    "    'sexual': 2,\n",
    "    'both': 3\n",
    "}"
   ]
  },
  {
   "cell_type": "code",
   "execution_count": 3,
   "metadata": {},
   "outputs": [],
   "source": [
    "def save_checkpoint(frame_data, annotations, video_ids, path=HOME_PATH+DATASET_PATH):\n",
    "    with h5py.File(path, 'a', libver='latest') as f:\n",
    "        frame_data = np.array(frame_data)\n",
    "        annotations = np.array(annotations)\n",
    "        video_ids = np.array(video_ids)\n",
    "        \n",
    "        try:\n",
    "            frame_dset = f['frames']\n",
    "            annotation_dset = f['annotations']\n",
    "            vids_dset = f['vids']\n",
    "        except KeyError:\n",
    "            frame_dset = f.create_dataset('frames', shape=(0, 6, 512), maxshape=(None, 6, 512), compression = 'gzip')\n",
    "            annotation_dset = f.create_dataset('annotations', shape=(0, ), maxshape=(None,), compression = 'gzip')\n",
    "            vids_dset = f.create_dataset('vids', shape=(0, ), maxshape=(None, ), compression = 'gzip', dtype=h5py.special_dtype(vlen=str))\n",
    "            f.swmr_mode = True\n",
    "\n",
    "        new_frame_shape = frame_data.shape[0]\n",
    "        new_annotation_shape = annotations.shape[0]\n",
    "        new_vids_shape = video_ids.shape[0]\n",
    "        \n",
    "        frame_dset.resize(frame_dset.shape[0] + new_frame_shape, axis=0)\n",
    "        annotation_dset.resize(annotation_dset.shape[0] + new_annotation_shape, axis=0)\n",
    "        vids_dset.resize(vids_dset.shape[0] + new_vids_shape, axis=0)\n",
    "        \n",
    "        frame_dset[-new_frame_shape:] = frame_data\n",
    "        annotation_dset[-new_annotation_shape:] = annotations\n",
    "        vids_dset[-new_vids_shape:] = video_ids\n",
    "        print(frame_dset.shape)"
   ]
  },
  {
   "cell_type": "code",
   "execution_count": 5,
   "metadata": {},
   "outputs": [],
   "source": [
    "def read_hdf5(name, path=HOME_PATH + 'processed/aggregate_1_sec/frames_features.hdf5'):\n",
    "    f = h5py.File(path, 'r')\n",
    "    return f[name]"
   ]
  },
  {
   "cell_type": "code",
   "execution_count": 6,
   "metadata": {},
   "outputs": [],
   "source": [
    "vids = read_hdf5('vids')\n",
    "frames = read_hdf5('frames')"
   ]
  },
  {
   "cell_type": "code",
   "execution_count": 8,
   "metadata": {},
   "outputs": [],
   "source": [
    "prev = vids[0]\n",
    "vid_details = []\n",
    "\n",
    "vid_dict = {}\n",
    "vid_dict['start_index'] = 0\n",
    "ctr = 0\n",
    "\n",
    "for i in range(1, vids.shape[0]):\n",
    "    vid = vids[i]\n",
    "    ctr += 1\n",
    "    if not prev == vid:\n",
    "        vid_dict['vid'] = prev\n",
    "        vid_dict['length'] = ctr\n",
    "        vid_details.append(vid_dict)\n",
    "        \n",
    "        vid_dict = {}\n",
    "        vid_dict['start_index'] = i\n",
    "        ctr = 0\n",
    "        prev = vid"
   ]
  },
  {
   "cell_type": "code",
   "execution_count": 11,
   "metadata": {},
   "outputs": [
    {
     "data": {
      "text/plain": [
       "[{'start_index': 0, 'vid': '5938eff100e5263c1d7eee07', 'length': 1473},\n",
       " {'start_index': 1473, 'vid': '5938eff100e5263c1d7eee08', 'length': 1502},\n",
       " {'start_index': 2975, 'vid': '5938eff100e5263c1d7eee09', 'length': 1502},\n",
       " {'start_index': 4477, 'vid': '5938eff100e5263c1d7eee0a', 'length': 1502},\n",
       " {'start_index': 5979, 'vid': '5938eff100e5263c1d7eee0b', 'length': 1472},\n",
       " {'start_index': 7451, 'vid': '5938eff100e5263c1d7eee0c', 'length': 1502},\n",
       " {'start_index': 8953, 'vid': '5938eff100e5263c1d7eee0d', 'length': 1502},\n",
       " {'start_index': 10455, 'vid': '5938eff100e5263c1d7eee0e', 'length': 1502},\n",
       " {'start_index': 11957, 'vid': '5938eff200e5263c1d7eee0f', 'length': 1502},\n",
       " {'start_index': 13459, 'vid': '5938eff200e5263c1d7eee10', 'length': 1501},\n",
       " {'start_index': 14960, 'vid': '5938eff200e5263c1d7eee11', 'length': 1502},\n",
       " {'start_index': 16462, 'vid': '5938eff200e5263c1d7eee12', 'length': 1502},\n",
       " {'start_index': 17964, 'vid': '5938eff200e5263c1d7eee13', 'length': 1502},\n",
       " {'start_index': 19466, 'vid': '5938eff200e5263c1d7eee14', 'length': 1502},\n",
       " {'start_index': 20968, 'vid': '5938f7a000e526042e321264', 'length': 1447},\n",
       " {'start_index': 22415, 'vid': '5938f7a000e526042e321265', 'length': 1450},\n",
       " {'start_index': 23865, 'vid': '5938f7a000e526042e321266', 'length': 1447},\n",
       " {'start_index': 25312, 'vid': '5938f7a000e526042e321267', 'length': 1447},\n",
       " {'start_index': 26759, 'vid': '5938f7a000e526042e321268', 'length': 1447},\n",
       " {'start_index': 28206, 'vid': '5938f7a000e526042e321269', 'length': 1447},\n",
       " {'start_index': 29653, 'vid': '5938f7a200e526042e32126a', 'length': 1447},\n",
       " {'start_index': 31100, 'vid': '5938f7a300e526042e32126b', 'length': 1447},\n",
       " {'start_index': 32547, 'vid': '5938f7a300e526042e32126c', 'length': 1447},\n",
       " {'start_index': 33994, 'vid': '5938f7a300e526042e32126d', 'length': 1447},\n",
       " {'start_index': 35441, 'vid': '5938f7a300e526042e32126e', 'length': 1447},\n",
       " {'start_index': 36888, 'vid': '5938f7a300e526042e32126f', 'length': 1447},\n",
       " {'start_index': 38335, 'vid': '5938f7a300e526042e321270', 'length': 1447},\n",
       " {'start_index': 39782, 'vid': '5938f7a300e526042e321271', 'length': 1447},\n",
       " {'start_index': 41229, 'vid': '5938f7a300e526042e321272', 'length': 1447},\n",
       " {'start_index': 42676, 'vid': '5938efed00e5263c1d7eede9', 'length': 1403},\n",
       " {'start_index': 44079, 'vid': '5938efed00e5263c1d7eede6', 'length': 1396},\n",
       " {'start_index': 45475, 'vid': '5938efec00e5263c1d7eedde', 'length': 1395},\n",
       " {'start_index': 46870, 'vid': '5938efec00e5263c1d7eedda', 'length': 1403},\n",
       " {'start_index': 48273, 'vid': '5938efeb00e5263c1d7eedd8', 'length': 1395},\n",
       " {'start_index': 49668, 'vid': '5938efec00e5263c1d7eeddc', 'length': 1387},\n",
       " {'start_index': 51055, 'vid': '5938efed00e5263c1d7eedeb', 'length': 1396},\n",
       " {'start_index': 52451, 'vid': '5938efec00e5263c1d7eede1', 'length': 1403},\n",
       " {'start_index': 53854, 'vid': '5938efed00e5263c1d7eedec', 'length': 1404},\n",
       " {'start_index': 55258, 'vid': '5938efec00e5263c1d7eede4', 'length': 1404},\n",
       " {'start_index': 56662, 'vid': '5938efeb00e5263c1d7eedd7', 'length': 1430},\n",
       " {'start_index': 58092, 'vid': '5938efed00e5263c1d7eeded', 'length': 1396},\n",
       " {'start_index': 59488, 'vid': '5938efee00e5263c1d7eedef', 'length': 1386},\n",
       " {'start_index': 60874, 'vid': '5938efec00e5263c1d7eede3', 'length': 1402},\n",
       " {'start_index': 62276, 'vid': '5938efed00e5263c1d7eede8', 'length': 1402},\n",
       " {'start_index': 63678, 'vid': '5938efed00e5263c1d7eedee', 'length': 1418},\n",
       " {'start_index': 65096, 'vid': '5938efed00e5263c1d7eede5', 'length': 1384},\n",
       " {'start_index': 66480, 'vid': '5938efec00e5263c1d7eeddf', 'length': 1387},\n",
       " {'start_index': 67867, 'vid': '5938efed00e5263c1d7eedea', 'length': 1398},\n",
       " {'start_index': 69265, 'vid': '5938efec00e5263c1d7eede0', 'length': 1402},\n",
       " {'start_index': 70667, 'vid': '5938efec00e5263c1d7eedd9', 'length': 1404},\n",
       " {'start_index': 72071, 'vid': '5938efec00e5263c1d7eede2', 'length': 1396},\n",
       " {'start_index': 73467, 'vid': '5938efed00e5263c1d7eede7', 'length': 1395},\n",
       " {'start_index': 74862, 'vid': '5938efec00e5263c1d7eeddd', 'length': 1385},\n",
       " {'start_index': 76247, 'vid': '5938efec00e5263c1d7eeddb', 'length': 1360},\n",
       " {'start_index': 77607, 'vid': '5938efef00e5263c1d7eedf7', 'length': 1467},\n",
       " {'start_index': 79074, 'vid': '5938eff000e5263c1d7eee01', 'length': 1467},\n",
       " {'start_index': 80541, 'vid': '5938eff100e5263c1d7eee06', 'length': 1467},\n",
       " {'start_index': 82008, 'vid': '5938efef00e5263c1d7eedf9', 'length': 1467},\n",
       " {'start_index': 83475, 'vid': '5938eff000e5263c1d7eee04', 'length': 1467},\n",
       " {'start_index': 84942, 'vid': '5938eff000e5263c1d7eee02', 'length': 1467},\n",
       " {'start_index': 86409, 'vid': '5938efef00e5263c1d7eedfb', 'length': 1467},\n",
       " {'start_index': 87876, 'vid': '5938eff000e5263c1d7eee03', 'length': 1467},\n",
       " {'start_index': 89343, 'vid': '5938efee00e5263c1d7eedf2', 'length': 1467},\n",
       " {'start_index': 90810, 'vid': '5938eff000e5263c1d7eedfe', 'length': 1467},\n",
       " {'start_index': 92277, 'vid': '5938efee00e5263c1d7eedf1', 'length': 1467},\n",
       " {'start_index': 93744, 'vid': '5938efee00e5263c1d7eedf6', 'length': 1467},\n",
       " {'start_index': 95211, 'vid': '5938eff000e5263c1d7eee00', 'length': 1467},\n",
       " {'start_index': 96678, 'vid': '5938efef00e5263c1d7eedf8', 'length': 1467},\n",
       " {'start_index': 98145, 'vid': '5938eff000e5263c1d7eedff', 'length': 1467},\n",
       " {'start_index': 99612, 'vid': '5938efef00e5263c1d7eedfa', 'length': 1467},\n",
       " {'start_index': 101079, 'vid': '5938efef00e5263c1d7eedfc', 'length': 1467},\n",
       " {'start_index': 102546, 'vid': '5938efee00e5263c1d7eedf0', 'length': 1452},\n",
       " {'start_index': 103998, 'vid': '5938eff000e5263c1d7eedfd', 'length': 1467},\n",
       " {'start_index': 105465, 'vid': '5938efee00e5263c1d7eedf5', 'length': 1467},\n",
       " {'start_index': 106932, 'vid': '5938efee00e5263c1d7eedf4', 'length': 1467},\n",
       " {'start_index': 108399, 'vid': '5938eff000e5263c1d7eee05', 'length': 1467}]"
      ]
     },
     "execution_count": 11,
     "metadata": {},
     "output_type": "execute_result"
    }
   ],
   "source": [
    "vid_details"
   ]
  },
  {
   "cell_type": "code",
   "execution_count": null,
   "metadata": {},
   "outputs": [],
   "source": [
    "compare_list = []\n",
    "for detail in vid_details:\n",
    "    try :\n",
    "        vid = detail['vid']\n",
    "        file_path = HOME_PATH+ANNOTATION_PATH_SUFFIX.format(vid)\n",
    "        compare_dict = {}\n",
    "        compare_dict['vid'] = vid\n",
    "        compare_dict['file_length'] = detail['length']\n",
    "\n",
    "        with open(file_path) as f:\n",
    "            content = f.readlines()\n",
    "            content = [x.strip() for x in content]\n",
    "            compare_dict['annotation_length'] = len(content)\n",
    "        if compare_dict['file_length'] != compare_dict['annotation_length']:\n",
    "            compare_dict['conflict'] = True\n",
    "        else:\n",
    "            compare_dict['conflict'] = False\n",
    "        compare_list.append(compare_dict)\n",
    "    except FileNotFoundError as e:\n",
    "        print('File not found for Video ID: ', vid)"
   ]
  },
  {
   "cell_type": "code",
   "execution_count": null,
   "metadata": {},
   "outputs": [],
   "source": [
    "ctr = 0\n",
    "for comparings in compare_list:\n",
    "    if comparings['conflict'] == True:\n",
    "        ctr += 1\n",
    "        print(comparings)\n",
    "print(ctr)"
   ]
  },
  {
   "cell_type": "code",
   "execution_count": null,
   "metadata": {},
   "outputs": [],
   "source": [
    "for detail in vid_details:\n",
    "    vid = detail['vid']\n",
    "    bad_annotation_ctr = 0\n",
    "    frame_index = 0\n",
    "    annotated_features = []\n",
    "    annotations = []\n",
    "    annotation_vids = []\n",
    "    \n",
    "    \n",
    "    file_path = HOME_PATH + ANNOTATION_PATH_SUFFIX.format(vid)\n",
    "    with open(file_path) as f:\n",
    "        content = f.readlines()\n",
    "        content = [x.strip() for x in content]\n",
    "    for annotation in content:\n",
    "        m = re.search('[^: ]+$', annotation)\n",
    "        try:\n",
    "            annotations.append(ANNOTATION_LABELS[m.group(0)])\n",
    "            annotated_features.append(frames[frame_index + detail['start_index']])\n",
    "            annotation_vids.append(vid)\n",
    "        except KeyError:\n",
    "            bad_annotation_ctr += 1\n",
    "            pass\n",
    "        frame_index += 1\n",
    "    print(vid, detail['length'], len(annotated_features), bad_annotation_ctr)\n",
    "    assert len(annotated_features) + bad_annotation_ctr <= detail['length']"
   ]
  }
 ],
 "metadata": {
  "kernelspec": {
   "display_name": "Python [conda env:kidstube2]",
   "language": "python",
   "name": "conda-env-kidstube2-py"
  },
  "language_info": {
   "codemirror_mode": {
    "name": "ipython",
    "version": 3
   },
   "file_extension": ".py",
   "mimetype": "text/x-python",
   "name": "python",
   "nbconvert_exporter": "python",
   "pygments_lexer": "ipython3",
   "version": "3.6.5"
  }
 },
 "nbformat": 4,
 "nbformat_minor": 2
}
