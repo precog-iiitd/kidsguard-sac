{
 "cells": [
  {
   "cell_type": "code",
   "execution_count": null,
   "metadata": {},
   "outputs": [],
   "source": [
    "import h5py\n",
    "import os\n",
    "import re\n",
    "\n",
    "import numpy as np"
   ]
  },
  {
   "cell_type": "code",
   "execution_count": null,
   "metadata": {},
   "outputs": [],
   "source": [
    "HOME_PATH = '/home/shubhams/Hercules/kidstube-data/'\n",
    "SECONDS_PER_CLIP = 3\n",
    "READ_DATASET_PATH = 'processed/aggregate_{0}_sec/unbalanced_data.hdf5'.format(SECONDS_PER_CLIP)\n",
    "WRITE_DATASET_PATH = 'processed/aggregate_{0}_sec/balanced_data.hdf5'.format(SECONDS_PER_CLIP)\n",
    "label_ctr = [12313, 6795, 2268, 3244]"
   ]
  },
  {
   "cell_type": "code",
   "execution_count": null,
   "metadata": {},
   "outputs": [],
   "source": [
    "def read_hdf5(name, path=HOME_PATH + READ_DATASET_PATH):\n",
    "    f = h5py.File(path, 'r')\n",
    "    return f[name][()]"
   ]
  },
  {
   "cell_type": "code",
   "execution_count": null,
   "metadata": {},
   "outputs": [],
   "source": [
    "frames = read_hdf5('frames')\n",
    "annotations = read_hdf5('annotations')"
   ]
  },
  {
   "cell_type": "code",
   "execution_count": null,
   "metadata": {},
   "outputs": [],
   "source": [
    "label_check_ctr = [0, 0, 0, 0]\n",
    "for i in range(annotations.shape[0]):\n",
    "    label_check_ctr[int(annotations[i])] += 1\n",
    "print(label_check_ctr)"
   ]
  },
  {
   "cell_type": "code",
   "execution_count": null,
   "metadata": {},
   "outputs": [],
   "source": [
    "def save_checkpoint(frame_data, annotations, path=HOME_PATH+WRITE_DATASET_PATH):\n",
    "    with h5py.File(path, 'a', libver='latest') as f:\n",
    "        frame_data = np.array(frame_data)\n",
    "        annotations = np.array(annotations)\n",
    "        \n",
    "        try:\n",
    "            frame_dset = f['frames']\n",
    "            annotation_dset = f['annotations']\n",
    "        except KeyError:\n",
    "            frame_dset = f.create_dataset('frames', shape=(0, 6*SECONDS_PER_CLIP, 512), maxshape=(None, 6*SECONDS_PER_CLIP, 512), compression = 'gzip')\n",
    "            annotation_dset = f.create_dataset('annotations', shape=(0, ), maxshape=(None,), compression = 'gzip')\n",
    "            f.swmr_mode = True\n",
    "\n",
    "        new_frame_shape = frame_data.shape[0]\n",
    "        new_annotation_shape = annotations.shape[0]\n",
    "        \n",
    "        frame_dset.resize(frame_dset.shape[0] + new_frame_shape, axis=0)\n",
    "        annotation_dset.resize(annotation_dset.shape[0] + new_annotation_shape, axis=0)\n",
    "        \n",
    "        frame_dset[-new_frame_shape:] = frame_data\n",
    "        annotation_dset[-new_annotation_shape:] = annotations\n",
    "        print(frame_dset.shape)"
   ]
  },
  {
   "cell_type": "code",
   "execution_count": null,
   "metadata": {},
   "outputs": [],
   "source": [
    "annotated_frames = []\n",
    "annotation_labels = []\n",
    "\n",
    "print(np.sum(label_ctr))\n",
    "save_every = 2000\n",
    "ctr = 0\n",
    "\n",
    "rand_indices = np.random.permutation(frames.shape[0])\n",
    "for rand_idx in rand_indices:\n",
    "    if not np.any(label_ctr):\n",
    "        break\n",
    "    label = int(annotations[rand_idx])\n",
    "    if label_ctr[label] > 0:     \n",
    "        ctr += 1\n",
    "        annotated_frames.append(frames[rand_idx])\n",
    "        annotation_labels.append(annotations[rand_idx])\n",
    "        label_ctr[label] = label_ctr[label] - 1\n",
    "        if ctr % save_every == 0:\n",
    "            save_checkpoint(annotated_frames, annotation_labels)\n",
    "            print(label_ctr)\n",
    "            annotated_frames = []\n",
    "            annotation_labels = []\n",
    "save_checkpoint(annotated_frames, annotation_labels)"
   ]
  },
  {
   "cell_type": "code",
   "execution_count": null,
   "metadata": {},
   "outputs": [],
   "source": [
    "balanced_annotations = read_hdf5('annotations', HOME_PATH+WRITE_DATASET_PATH)\n",
    "\n",
    "label_check_ctr = [0, 0, 0, 0]\n",
    "for i in range(balanced_annotations.shape[0]):\n",
    "    label_check_ctr[int(balanced_annotations[i])] += 1\n",
    "print(label_check_ctr)"
   ]
  }
 ],
 "metadata": {
  "kernelspec": {
   "display_name": "Python [conda env:kidstube2]",
   "language": "python",
   "name": "conda-env-kidstube2-py"
  },
  "language_info": {
   "codemirror_mode": {
    "name": "ipython",
    "version": 3
   },
   "file_extension": ".py",
   "mimetype": "text/x-python",
   "name": "python",
   "nbconvert_exporter": "python",
   "pygments_lexer": "ipython3",
   "version": "3.6.5"
  }
 },
 "nbformat": 4,
 "nbformat_minor": 2
}
