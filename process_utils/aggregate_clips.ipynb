{
 "cells": [
  {
   "cell_type": "code",
   "execution_count": null,
   "metadata": {},
   "outputs": [],
   "source": [
    "import h5py\n",
    "import os\n",
    "import re\n",
    "\n",
    "import numpy as np"
   ]
  },
  {
   "cell_type": "code",
   "execution_count": null,
   "metadata": {},
   "outputs": [],
   "source": [
    "HOME_PATH = '/home/shubhams/Hercules/kidstube-data/'\n",
    "READ_DATASET = 'processed/new_annotated_data.hdf5'\n",
    "\n",
    "SECONDS_PER_CLIP = 3\n",
    "NUM_CLASSES = 4\n",
    "\n",
    "WRITE_DATASET = 'processed/aggregate_{0}_sec/unbalanced_data.hdf5'.format(SECONDS_PER_CLIP)"
   ]
  },
  {
   "cell_type": "code",
   "execution_count": null,
   "metadata": {},
   "outputs": [],
   "source": [
    "def read_hdf5(name, path=HOME_PATH + READ_DATASET):\n",
    "    f = h5py.File(path, 'r')\n",
    "    return f[name][()]"
   ]
  },
  {
   "cell_type": "code",
   "execution_count": null,
   "metadata": {},
   "outputs": [],
   "source": [
    "frames = read_hdf5('frames')\n",
    "annotations = read_hdf5('annotations')"
   ]
  },
  {
   "cell_type": "code",
   "execution_count": null,
   "metadata": {},
   "outputs": [],
   "source": [
    "reshaped_frames = np.reshape(frames, (int(frames.shape[0] / SECONDS_PER_CLIP), frames.shape[1] * SECONDS_PER_CLIP, frames.shape[2]))\n",
    "print(reshaped_frames.shape)"
   ]
  },
  {
   "cell_type": "code",
   "execution_count": null,
   "metadata": {},
   "outputs": [],
   "source": [
    "reshaped_annotations = []\n",
    "for i in range(0, annotations.shape[0], SECONDS_PER_CLIP):\n",
    "    reshaped_annotations.append(np.bincount(annotations[i:i+SECONDS_PER_CLIP].astype(int)).argmax())"
   ]
  },
  {
   "cell_type": "code",
   "execution_count": null,
   "metadata": {},
   "outputs": [],
   "source": [
    "reshaped_annotations = np.array(reshaped_annotations)\n",
    "print(reshaped_annotations.shape)"
   ]
  },
  {
   "cell_type": "code",
   "execution_count": null,
   "metadata": {},
   "outputs": [],
   "source": [
    "label_check_ctr = [0 for i in range(NUM_CLASSES)]\n",
    "for i in range(reshaped_annotations.shape[0]):\n",
    "    label_check_ctr[int(reshaped_annotations[i])] += 1\n",
    "print(label_check_ctr)"
   ]
  },
  {
   "cell_type": "code",
   "execution_count": null,
   "metadata": {},
   "outputs": [],
   "source": [
    "def save_data(frames, annotations, path=HOME_PATH+WRITE_DATASET):\n",
    "    if not os.path.exists(os.path.dirname(HOME_PATH+WRITE_DATASET)):\n",
    "        os.makedirs(os.path.dirname(HOME_PATH+WRITE_DATASET))\n",
    "    with h5py.File(path, 'w') as f:\n",
    "        f.create_dataset('frames', data=frames, compression='gzip')\n",
    "        f.create_dataset('annotations', data=annotations, compression='gzip')"
   ]
  },
  {
   "cell_type": "code",
   "execution_count": null,
   "metadata": {},
   "outputs": [],
   "source": [
    "save_data(reshaped_frames, reshaped_annotations)"
   ]
  }
 ],
 "metadata": {
  "kernelspec": {
   "display_name": "Python [conda env:kidstube2]",
   "language": "python",
   "name": "conda-env-kidstube2-py"
  },
  "language_info": {
   "codemirror_mode": {
    "name": "ipython",
    "version": 3
   },
   "file_extension": ".py",
   "mimetype": "text/x-python",
   "name": "python",
   "nbconvert_exporter": "python",
   "pygments_lexer": "ipython3",
   "version": "3.6.5"
  }
 },
 "nbformat": 4,
 "nbformat_minor": 2
}
