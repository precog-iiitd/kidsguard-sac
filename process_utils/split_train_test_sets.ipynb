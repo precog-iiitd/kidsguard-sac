{
 "cells": [
  {
   "cell_type": "code",
   "execution_count": null,
   "metadata": {},
   "outputs": [],
   "source": [
    "import h5py\n",
    "import numpy as np"
   ]
  },
  {
   "cell_type": "code",
   "execution_count": null,
   "metadata": {},
   "outputs": [],
   "source": [
    "HOME_PATH = '/home/shubhams/Hercules/kidstube-data/'\n",
    "SECONDS_PER_CLIP = 3\n",
    "NUM_CLASSES = 3\n",
    "PROMINENT_TEST_CLASS = 2\n",
    "READ_DATASET_FILE = 'explicit_data'\n",
    "READ_DATASET_PATH = 'processed/aggregate_{0}_sec/{1}.hdf5'.format(SECONDS_PER_CLIP, READ_DATASET_FILE)\n",
    "WRITE_TRAIN_DATASET_PATH = 'processed/aggregate_{0}_sec/train_{1}.hdf5'.format(SECONDS_PER_CLIP, READ_DATASET_FILE)\n",
    "WRITE_TEST_DATASET_PATH = 'processed/aggregate_{0}_sec/test_{1}.hdf5'.format(SECONDS_PER_CLIP, READ_DATASET_FILE)"
   ]
  },
  {
   "cell_type": "code",
   "execution_count": null,
   "metadata": {},
   "outputs": [],
   "source": [
    "def read_hdf5(name, path=HOME_PATH+READ_DATASET_PATH):\n",
    "    f = h5py.File(path, 'r')\n",
    "    return f[name][()]"
   ]
  },
  {
   "cell_type": "code",
   "execution_count": null,
   "metadata": {},
   "outputs": [],
   "source": [
    "frames = read_hdf5('frames')\n",
    "annotations = read_hdf5('annotations')"
   ]
  },
  {
   "cell_type": "markdown",
   "metadata": {},
   "source": [
    "### Use Sklearn to split"
   ]
  },
  {
   "cell_type": "code",
   "execution_count": null,
   "metadata": {},
   "outputs": [],
   "source": [
    "from sklearn.model_selection import train_test_split"
   ]
  },
  {
   "cell_type": "code",
   "execution_count": null,
   "metadata": {},
   "outputs": [],
   "source": [
    "def save_splits(frames, annotations, path):\n",
    "    with h5py.File(path, 'w') as f:\n",
    "        f.create_dataset('frames', data=frames, compression='gzip')\n",
    "        f.create_dataset('annotations', data=annotations, compression='gzip')"
   ]
  },
  {
   "cell_type": "code",
   "execution_count": null,
   "metadata": {},
   "outputs": [],
   "source": [
    "frames_train, frames_test, annnotations_train, annotations_test = train_test_split(frames, annotations, test_size=0.2, random_state=42, shuffle=True, stratify=annotations)"
   ]
  },
  {
   "cell_type": "code",
   "execution_count": null,
   "metadata": {},
   "outputs": [],
   "source": [
    "label = [0 for i in range(NUM_CLASSES)]\n",
    "for i in annotations.astype(int):\n",
    "    label[i] += 1 \n",
    "label"
   ]
  },
  {
   "cell_type": "code",
   "execution_count": null,
   "metadata": {},
   "outputs": [],
   "source": [
    "label_train = [0 for i in range(NUM_CLASSES)]\n",
    "for i in annnotations_train.astype(int):\n",
    "    label_train[i] += 1 \n",
    "label_train"
   ]
  },
  {
   "cell_type": "code",
   "execution_count": null,
   "metadata": {},
   "outputs": [],
   "source": [
    "label_test = [0 for i in range(NUM_CLASSES)]\n",
    "for i in annotations_test.astype(int):\n",
    "    label_test[i] += 1 \n",
    "label_test"
   ]
  },
  {
   "cell_type": "code",
   "execution_count": null,
   "metadata": {},
   "outputs": [],
   "source": [
    "save_splits(frames_train, annnotations_train, HOME_PATH+WRITE_TRAIN_DATASET_PATH)\n",
    "save_splits(frames_test, annotations_test, HOME_PATH+WRITE_TEST_DATASET_PATH)"
   ]
  }
 ],
 "metadata": {
  "kernelspec": {
   "display_name": "Python [conda env:kidstube2]",
   "language": "python",
   "name": "conda-env-kidstube2-py"
  },
  "language_info": {
   "codemirror_mode": {
    "name": "ipython",
    "version": 3
   },
   "file_extension": ".py",
   "mimetype": "text/x-python",
   "name": "python",
   "nbconvert_exporter": "python",
   "pygments_lexer": "ipython3",
   "version": "3.6.5"
  }
 },
 "nbformat": 4,
 "nbformat_minor": 2
}
